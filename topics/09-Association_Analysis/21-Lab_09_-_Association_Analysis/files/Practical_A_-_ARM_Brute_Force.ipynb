{
 "cells": [
  {
   "cell_type": "markdown",
   "metadata": {},
   "source": [
    "# Practical A - Association Rule Mining - Brute Force"
   ]
  },
  {
   "cell_type": "markdown",
   "metadata": {},
   "source": [
    "## Introduction"
   ]
  },
  {
   "cell_type": "markdown",
   "metadata": {},
   "source": [
    "In this practical we will use python sets and enumeration to answer some questions relating the Association Rule Mining (ARM) also called Market Basket Mining.  In ARM a seller (think Amazon) has a large collection of items and has a history of transactions, each transaction lists which items that were part of that transaction. The seller want to determine which items are more likely sold together. \n",
    "\n",
    "We (you) are going to implement a number of functions that are commonly used in ARM. To make debugging easier we are going to focus on the following toy data set of 5 transactions with 6 items.\n",
    "\n",
    "| id | Transaction                        |\n",
    "| -- |:---------------------------------- |\n",
    "|  0 | \"Bread\",\"Milk\"                     |\n",
    "|  1 | \"Bread\",\"Diapers\",\"Beer\",\"Eggs\"    |\n",
    "|  2 | \"Milk\", \"Diapers\", \"Beer\", \"Cola\"  |\n",
    "|  3 | \"Bread\", \"Milk\", \"Diapers\", \"Beer\" |\n",
    "|  4 | \"Bread\", \"Milk\", \"Diapers\", \"Cola\" |\n",
    "\n",
    "The implementation discussed here is 100% brute force --- it would not be usable for any realistically sized dataset.  The main purpose of this practical is to help you develop python coding skills for handling sets and similar data structures.\n"
   ]
  },
  {
   "cell_type": "markdown",
   "metadata": {},
   "source": [
    "### Mathematics Concepts and Python Syntax/Modules/Commands\n",
    "\n",
    "This practical will develop your understanding of:\n",
    "\n",
    "**Sets**\n",
    "\n",
    " * To create an empty set, in Mathematics we write $A=\\{\\}$, in Python we write\n",
    "~~~ python\n",
    "A = set()\n",
    "~~~\n",
    " * Note the mathematical notation for empty set, $\\{\\}$, represents a __dict__ in Python.\n",
    " * Create a set by listing its elements \n",
    "~~~ python\n",
    "B={1,2,3,\"Hi\",3} # Note element 3 is inserted ONCE.\n",
    "~~~\n",
    " * To check for membership, use the __in__ operator. In Mathematics we write $3\\in B$, in Python we write\n",
    "~~~ python\n",
    "3 in B\n",
    "~~~\n",
    " * To check for subset and superset relationship, using methods __issubset__ and __issuperset__ respectively. Given two sets, $A$ and $B$, in Mathematics we write $A \\subseteq B$ and $A\\supseteq B$, in Python. we write\n",
    "~~~ python\n",
    "A.issubset(B)\n",
    "A.issuperset(B)\n",
    "~~~\n",
    " * To compute the size of a set we use the function __len__.  Given a set $A$, in Mathematics we write $\\#A$ or $|A|$, in Python we write \n",
    "~~~ python\n",
    "len(A)\n",
    "~~~\n",
    " * To create a set representing the intersection of two sets we use the method __intersection__. Given two sets $A$ and $B$, in Mathematics we write $C=A \\cap B$, in Python we write \n",
    "~~~ python\n",
    "C = A.intersection(B)\n",
    "~~~\n",
    " * To create a set representing the union of two sets we use the method __union__. Given two sets $A$ and $B$, in Mathematics we write $C=A \\cup B$, in Python we write \n",
    "~~~ python\n",
    "C = A.union(B)\n",
    "~~~\n",
    " * To create a set representing the set difference of set $A$ and set $B$ we use the method __difference__. In Mathematics we write $C=A \\setminus B$, in Python we write \n",
    "~~~ python\n",
    "C = A.difference(B)\n",
    "~~~\n",
    "\n",
    " * Note: For computational reasons, python has variations of above methods, such as __union_update__ which modify the set rather than returning a new set.  Feel free to use those if you like.  \n",
    "\n",
    "**Permutation and combinations**\n",
    "\n",
    " * The python module __itertools__ has helper functions for permutations and combinations as well as tools for working with [sequence datasets](https://pymotw.com/3/itertools/).\n",
    "\n",
    "~~~ python\n",
    "import itertools\n",
    "~~~\n",
    "\n",
    " * Note: The __itertools__ functions return [generators not lists or tuples](https://medium.freecodecamp.org/python-list-comprehensions-vs-generator-expressions-cef70ccb49db) for computational reasons. So before using the result, to say determine size, you first need to convert from generator to a list using funtion __list__.\n",
    " * To generate the permutations of taking $r$ objects from a collection of objects, $A$,  we write\n",
    "~~~ python\n",
    "itertools.permutations(A, r)\n",
    "~~~\n",
    "\n",
    " * To generate the combinations of taking $r$ objects from a collection of objects, $A$,  we write\n",
    "~~~ python\n",
    "itertools.combinations(A, r)\n",
    "~~~\n",
    " * Note: when selecting $r$ objects from a set of $n$ objects, the number of permutations must be $r!$ times the number of combinations, where $r!$ (read as \"r factorial\") is defined as\n",
    " \n",
    "\\\\[\n",
    "    r! = \\begin{cases}\n",
    "        1 & r=0\\\\\n",
    "        1\\times2\\times3\\cdots\\times r & r>1\n",
    "    \\end{cases}\n",
    "\\\\]\n",
    "\n",
    "We can test this in python, (on success the following code should not output anything) ... \n",
    "\n",
    "~~~ python\n",
    "import math\n",
    "import itertools\n",
    "A = {\"a\",\" \",\"s\",\"i\",\"l\",\"l\",\"y\",\" \",\"s\",\"e\",\"t\"}\n",
    "r = 4 \n",
    "n_permutate_r = len(list(itertools.permutations(A,r))) # number of permutations \n",
    "n_choose_r = len(list(itertools.combinations(A,r))) # number of combinations\n",
    "\n",
    "assert n_permutate_r == n_choose_r * math.factorial(r), \"Something is not right in this world!!. Blame Trump?\"\n",
    "~~~"
   ]
  },
  {
   "cell_type": "markdown",
   "metadata": {
    "heading_collapsed": true
   },
   "source": [
    "## Questions"
   ]
  },
  {
   "cell_type": "code",
   "execution_count": null,
   "metadata": {
    "hidden": true
   },
   "outputs": [],
   "source": [
    "# First we define the list of transactions given above\n",
    "transactions = [{\"Bread\",\"Milk\"},\n",
    "    {\"Bread\",\"Diapers\",\"Beer\",\"Eggs\"},\n",
    "    {\"Milk\", \"Diapers\", \"Beer\", \"Cola\"},\n",
    "    {\"Bread\", \"Milk\", \"Diapers\", \"Beer\"},\n",
    "    {\"Bread\", \"Milk\", \"Diapers\", \"Cola\"}]"
   ]
  },
  {
   "cell_type": "markdown",
   "metadata": {
    "heading_collapsed": true,
    "hidden": true
   },
   "source": [
    "#### Question 1\n",
    "\n",
    "_Task:_ Pretty print the transaction list.\n",
    "\n",
    "_Discussion:_ I have completed this question to remind you of the various python constructs, such as the for loop, and formatted printing."
   ]
  },
  {
   "cell_type": "code",
   "execution_count": null,
   "metadata": {
    "hidden": true
   },
   "outputs": [],
   "source": [
    "# Answer 1 - Version 0, just print out the transaction list (this is not pretty)\n",
    "print(transactions)"
   ]
  },
  {
   "cell_type": "code",
   "execution_count": null,
   "metadata": {
    "hidden": true
   },
   "outputs": [],
   "source": [
    "# Answer - Version 1, just print out each transaction ... one per row\n",
    "for transaction in  transactions:\n",
    "    print (transaction)"
   ]
  },
  {
   "cell_type": "markdown",
   "metadata": {},
   "source": [
    "We can get a distinct list of the products easily, by just adding each transaction, product by product, to a set."
   ]
  },
  {
   "cell_type": "code",
   "execution_count": null,
   "metadata": {},
   "outputs": [],
   "source": [
    "p = set()\n",
    "for t in transactions:\n",
    "    p.update(t)\n",
    "print (p)"
   ]
  },
  {
   "cell_type": "code",
   "execution_count": null,
   "metadata": {
    "hidden": true
   },
   "outputs": [],
   "source": [
    "# Answer 1 - Version 2, also print out id of the transaction\n",
    "# Note: When iterating over a collection we use enumerate to also get a loop counter\n",
    "for id,transaction in enumerate (transactions):\n",
    "    print (id, transaction)"
   ]
  },
  {
   "cell_type": "code",
   "execution_count": null,
   "metadata": {
    "hidden": true
   },
   "outputs": [],
   "source": [
    "# Answer 1 - Version 3, pretty printing the table using formatting and rules \n",
    "# Note: A string*n will repeat the string n times \n",
    "print (\"%4s %12s\\n%s\" % (\"id\", \"Transaction\", \"-\"*40))\n",
    "for id,transaction in enumerate (transactions):\n",
    "    print (\"%4s %s\" % (id, transaction))"
   ]
  },
  {
   "cell_type": "code",
   "execution_count": null,
   "metadata": {
    "hidden": true
   },
   "outputs": [],
   "source": [
    "# Answer 1 - Version 4, Sorted items in each transaction \n",
    "# Note output is now a list - see the square brackets in output versus braces in previous output\n",
    "\n",
    "print (\"%4s %12s\\n%s\" % (\"id\", \"Transaction\", \"-\"*40))\n",
    "for id,transaction in enumerate (transactions):\n",
    "    print (\"%4s %s\" % (id, sorted(transaction)))"
   ]
  },
  {
   "cell_type": "code",
   "execution_count": null,
   "metadata": {
    "hidden": true
   },
   "outputs": [],
   "source": [
    "# Answer 1 - Version 5, Dropped quotes and brackets\n",
    "# Note: Converted list of items to a string using join before printing\n",
    "\n",
    "print (\"%4s %12s\\n%s\" % (\"id\", \"Transaction\", \"-\"*40))\n",
    "for id,transaction in enumerate (transactions):\n",
    "    print (\"%4s %s\" % (id, \", \".join(sorted(transaction))))"
   ]
  },
  {
   "cell_type": "markdown",
   "metadata": {
    "heading_collapsed": true,
    "hidden": true
   },
   "source": [
    "#### Question 2(a)\n",
    "\n",
    "The next questions ask you to try computing some values\n",
    "_Task:_ Create __items__, a set of all possible items based on given transaction list.\n",
    "\n",
    "~~~ python\n",
    "items = set() # start with empty set \n",
    "~~~\n",
    "\n",
    "_Discussion:_ Use pseudocode:\n",
    "\n",
    " 1. Create empty set __items__ using __set()__ (Remember __{}__ represents an empty dict not set.)\n",
    " 2. For each transactio in the list of transactions \n",
    "     1. Update __items__ to be the union of __items__ and the current transaction.\n",
    " 3. Print out __items__ to verify calculations"
   ]
  },
  {
   "cell_type": "code",
   "execution_count": null,
   "metadata": {
    "hidden": true
   },
   "outputs": [],
   "source": [
    "# Answer 2a:\n"
   ]
  },
  {
   "cell_type": "markdown",
   "metadata": {
    "heading_collapsed": true,
    "hidden": true
   },
   "source": [
    "#### Question 2(b)\n",
    "\n",
    "_Task:_ Write function __getItems(transactions)__ which returns the set of items when given a transaction list. \n",
    "\n",
    "_Discussion:_ The body of this function should just be the code that you wrote in __Question 2(a)__. The python statement __pass__ is used to indicate an empty function (or code block) --- replace with you code."
   ]
  },
  {
   "cell_type": "code",
   "execution_count": null,
   "metadata": {
    "hidden": true
   },
   "outputs": [],
   "source": [
    "# Answer 2b:\n",
    "def getItems(transactions):\n",
    "    pass\n",
    "\n",
    "# test function and output result\n",
    "items = getItems(transactions)\n",
    "print(items)"
   ]
  },
  {
   "cell_type": "markdown",
   "metadata": {
    "hidden": true
   },
   "source": [
    "<div class=\"alert alert-warning\">\n",
    "<b>Definition</b> (Itemset).\n",
    "</div>\n",
    "An __itemset__ is a set of items.\n",
    "\n",
    " * Examples include __{Bread}__,  __{Milk, Beer}__, etc\n",
    " * Note an itemset could contain zero iterms."
   ]
  },
  {
   "cell_type": "markdown",
   "metadata": {
    "heading_collapsed": true,
    "hidden": true
   },
   "source": [
    "#### Question 3\n",
    "\n",
    "_Task:_ Write code to determine how many distinct itemsets containing 3 items are possible.\n",
    "\n",
    "_Discussion:_\n",
    "  \n",
    "  * Since the order of items in a itemset is not important we are talking here about a __combination__ and not a __permutation__.\n",
    "  * We have 6 items that could be selected for an itemset, so this question is asking is\n",
    "  \n",
    "> \"How many ways can 3 objects be selected, where order does not matter, from a set of 6 distinct objects ?\"\n",
    "  \n",
    "  * The python module __itertools__ has functions to compute permutations and combinations (as well as a [host of other useful functions](https://pymotw.com/3/itertools/)).  Import the module as usual \n",
    "\n",
    "~~~~python\n",
    "import itertools\n",
    "~~~~\n",
    "\n",
    " * Rember that (in Python 3) the function __itertools.combinations__ will return a generator and not a list, so wrap returned result in a list before getting lenght (using __len__). "
   ]
  },
  {
   "cell_type": "code",
   "execution_count": null,
   "metadata": {
    "hidden": true
   },
   "outputs": [],
   "source": [
    "# Answer 3:\n"
   ]
  },
  {
   "cell_type": "markdown",
   "metadata": {
    "heading_collapsed": true,
    "hidden": true
   },
   "source": [
    "#### Question 4\n",
    "\n",
    "_Task:_ Write code to determine how many distinct nonempty itemsets containing 6 or less items are possible.\n",
    "\n",
    "_Discussion:_ Using answer in **Question 3** for loops, this is easy. \n",
    "\n",
    "The pseudocode is as follows\n",
    "\n",
    "1. Let __total__ = 0\n",
    "2. For __n__ in allowed_numboer_of_items_range\n",
    "   1. add to __total__ the number of distinct itemsets containing __n__ items\n",
    "3. Print __total__\n",
    "\n",
    "Note: Result should one less than a power of 2. Why?"
   ]
  },
  {
   "cell_type": "code",
   "execution_count": null,
   "metadata": {
    "hidden": true
   },
   "outputs": [],
   "source": [
    "# Answer 4:\n"
   ]
  },
  {
   "cell_type": "markdown",
   "metadata": {
    "hidden": true
   },
   "source": [
    "<div class=\"alert alert-warning\">\n",
    "<b>Definition</b> (Association Rule).\n",
    "</div>\n",
    "An __association rule__ is an implication expression of the form $X\\to Y$, where $X$ and $Y$ are disjoint itemsets.  The following are examples\n",
    "\n",
    " * $\\{\\text{Milk}, \\text{Diapers}\\} \\to \\{\\text{Beer}\\}$\n",
    " * $\\{\\text{Beer}\\} \\to \\{\\text{Milk}, \\text{Diapers}\\}$\n",
    " * $\\{\\text{Eggs}, \\text{Bread}, \\text{Milk}\\} \\to \\{\\text{Cola}\\}$ \n",
    "\n",
    "of association rules. An association rule suggests a relationship between two disjoint itemsets, so the first rule above suggets that people who buy $\\text{Milk}$ and  $\\text{Diapers}$ also buy $\\text{Beer}$.\n",
    "\n",
    " * Notice that an association rule is (similar to the implication IF-THEN operator) and so is not symmetric, so $X\\to Y$ is not the same as $Y\\to X$.\n"
   ]
  },
  {
   "cell_type": "markdown",
   "metadata": {
    "heading_collapsed": true,
    "hidden": true
   },
   "source": [
    "### Question 5\n",
    "\n",
    "_Task:_ Write code to generate all association rules for a given set of items.\n",
    "\n",
    "\n",
    "_Discussion:_ How could we, if given a set of items, construct a list of association rules?\n",
    "\n",
    "Let us make life easy and first restrict ourselves to association rules with $m$ items on the left hand side (LHS) and $n$ items on the right-hand side (RHS).  Of course, we need $m>0$ and $n>0$ and $m+n\\le 6$ for the association rule to make sense.\n",
    "\n",
    "Given __items__, and integers __m__ and __n__ we could \n",
    "\n",
    " 1. Create a list of all possible subsets of __m__ items to represent the LHS \n",
    " 2. For each LHS set \n",
    "    1. Remove the items in __items__ that are in the LHS\n",
    "    2. Create a list of all possible subsets of __n__ items FROM THE REMAINING ITEMS to represent the RHS\n",
    "    3. We now have a new rule LHS->RHS which we can store in a list as [LHS,RHS]\n",
    "\n",
    "The python code for this algorithm is simply (here $m=2$ and $n=3$) and the generated association rules are printed out (for debugging purposes) rather than stored.\n",
    "\n",
    "~~~ python\n",
    "for left in itertools.combinations(items,2):\n",
    "    remaining = items.symmetric_difference(left)\n",
    "    for right in itertools.combinations(remaining,3):\n",
    "        rule = [set(left), set(right)]\n",
    "        print (\"%s -> %s\" % (rule[0], rule[1]))\n",
    "~~~\n",
    "\n",
    "Then we need to loop over all allowed values of $m$ and $n$.\n",
    "\n",
    "Also to reduce output when developing consider using the smaller set \n",
    "\n",
    "~~~ python\n",
    "items = {\"a\",\"b\",\"c\"}\n",
    "~~~\n",
    "\n",
    "Finally finally the original __items__ of 6 items will generate 602 rules, while the smaller  set $\\{\"a\",\"b\",\"c\"\\}$ will generate only 12 rules."
   ]
  },
  {
   "cell_type": "code",
   "execution_count": null,
   "metadata": {
    "hidden": true
   },
   "outputs": [],
   "source": [
    "# Step 1 - Implement function to return a list of all rules of size (m->n) from a given set, m and n\n",
    "def generateRules(items,m,n):\n",
    "    \"\"\"Return list all association rules of {m items}->{n items} from items.\"\"\"\n",
    "    pass"
   ]
  },
  {
   "cell_type": "code",
   "execution_count": null,
   "metadata": {
    "hidden": true
   },
   "outputs": [],
   "source": [
    "# Step 2 - construct list of rules\n",
    "#    Create empty list rules\n",
    "#    Loop over all allowed values of m and n and build a list of all rules \n",
    "#    at end get number of rule using len(rules)\n",
    "rules = []\n",
    "# YOUR CODE\n",
    "\n",
    "print(len(rules))"
   ]
  },
  {
   "cell_type": "markdown",
   "metadata": {
    "hidden": true
   },
   "source": [
    "OK so now we see that there are lots of rules we need some way to measure how important they are --- we have two metrics, __support__ and __confidence__."
   ]
  },
  {
   "cell_type": "markdown",
   "metadata": {
    "hidden": true
   },
   "source": [
    "<div class=\"alert alert-warning\">\n",
    "<b>Definition</b> (Support).\n",
    "</div>\n",
    "The __support__ of a rule $X\\to Y$ the percentage of transactions that contain all of the items in $X$ and in $Y$. So we have \n",
    "\n",
    "\\\\[\n",
    "    s(X\\to Y) := \\frac\n",
    "    {\\text{Number of transactions that have } X\\cup Y \\text{ as a subset}}\n",
    "    {\\text{Number of transactions}} \n",
    "\\\\]\n",
    "\n",
    " * Support is an important measure because a rule that has very low support might occur simply by chance. \n",
    " * Also, from a business perspective a low support rule is unlikely to be interesting because it might not be profitable to promote items that customers seldom buy together;"
   ]
  },
  {
   "cell_type": "markdown",
   "metadata": {
    "heading_collapsed": true,
    "hidden": true
   },
   "source": [
    "### Question 6\n",
    "\n",
    "_Task:_ Implement function __support__ to calculate the support of a given rule on a set of transactions. The function has signiture\n",
    "\n",
    "~~~ python\n",
    "def support(rule, transactions):\n",
    "    pass\n",
    "~~~\n",
    "\n",
    "where\n",
    "\n",
    " * __rule__ is a list of two sets, represneting the $X\\to Y$ rule\n",
    " * __transactions__ is a list of transactions"
   ]
  },
  {
   "cell_type": "code",
   "execution_count": null,
   "metadata": {
    "hidden": true
   },
   "outputs": [],
   "source": [
    "# Answer 6:\n"
   ]
  },
  {
   "cell_type": "code",
   "execution_count": null,
   "metadata": {
    "hidden": true
   },
   "outputs": [],
   "source": [
    "# Test your function support by printing out the rule with support of 60% or greator \n",
    "# ... expect 8 rules\n"
   ]
  },
  {
   "cell_type": "markdown",
   "metadata": {
    "hidden": true
   },
   "source": [
    "<div class=\"alert alert-warning\">\n",
    "<b>Definition</b> (Confidence).\n",
    "</div>\n",
    "The __confidence__ of a rule $X\\to Y$ the number of transactions that contain all of the items in $X$ and in $Y$, dividesd by the number of transactions that contain aff of the elementf of $X$. So we have \n",
    "\n",
    "\\\\[\n",
    "    c(X\\to Y) := \\frac\n",
    "    {\\text{Number of transactions that have } X\\cup Y \\text{ as a subset}}\n",
    "    {\\text{Number of transactions that have } X \\text{ as a subset}} \n",
    "\\\\]\n",
    "\n",
    " * Confidence measures the reliability of the inference made by a rule. For a given rule $X\\to Y$, the higher the confidence, the more likely it is for $Y$ to be present in transactions that contain $X$. "
   ]
  },
  {
   "cell_type": "markdown",
   "metadata": {
    "heading_collapsed": true,
    "hidden": true
   },
   "source": [
    "### Question 7\n",
    "\n",
    "_Task:_ Implement function __confidence__ to calculate the confidence of a given rule on a set of transactions. The funciton has signiture\n",
    "\n",
    "~~~ python\n",
    "def confidence(rule, transactions):\n",
    "    pass\n",
    "~~~\n",
    "\n",
    "where\n",
    "\n",
    " * __rule__ is a list of two sets, represneting the $X\\to Y$ rule\n",
    " * __transactions__ is a list of transactions"
   ]
  },
  {
   "cell_type": "code",
   "execution_count": null,
   "metadata": {
    "hidden": true
   },
   "outputs": [],
   "source": [
    "# Answer 7:\n"
   ]
  },
  {
   "cell_type": "code",
   "execution_count": null,
   "metadata": {
    "hidden": true
   },
   "outputs": [],
   "source": [
    "# Test your function confidence by printing out the rules with support of 60% and confidence 80% \n",
    "# Note: which should you test for first, support or confidnce ?\n",
    "# ... expect 1 rule\n"
   ]
  },
  {
   "cell_type": "code",
   "execution_count": null,
   "metadata": {},
   "outputs": [],
   "source": []
  }
 ],
 "metadata": {
  "kernelspec": {
   "display_name": "Python 3",
   "language": "python",
   "name": "python3"
  },
  "language_info": {
   "codemirror_mode": {
    "name": "ipython",
    "version": 3
   },
   "file_extension": ".py",
   "mimetype": "text/x-python",
   "name": "python",
   "nbconvert_exporter": "python",
   "pygments_lexer": "ipython3",
   "version": "3.8.8"
  },
  "latex_envs": {
   "LaTeX_envs_menu_present": true,
   "autocomplete": true,
   "bibliofile": "biblio.bib",
   "cite_by": "apalike",
   "current_citInitial": 1,
   "eqLabelWithNumbers": true,
   "eqNumInitial": 1,
   "hotkeys": {
    "equation": "Ctrl-E",
    "itemize": "Ctrl-I"
   },
   "labels_anchors": false,
   "latex_user_defs": false,
   "report_style_numbering": false,
   "user_envs_cfg": false
  }
 },
 "nbformat": 4,
 "nbformat_minor": 4
}
