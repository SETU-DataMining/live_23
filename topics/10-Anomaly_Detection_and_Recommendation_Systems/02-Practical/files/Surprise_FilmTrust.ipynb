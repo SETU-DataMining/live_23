{
  "cells": [
    {
      "cell_type": "markdown",
      "id": "81a87ff4",
      "metadata": {},
      "source": [
        "# Recommendation systems using Surprise library\n",
        "\n",
        "This notebook indicates how surprise can be used to generate recommendations given (user,item) ratings. In this case we use the FilmTrust data on movie ratings.\n",
        "\n",
        "It is based on https://blog.cambridgespark.com/tutorial-practical-introduction-to-recommender-systems-dbe22848392b\n",
        "\n",
        "The following cell shows the commands that should be run to install the necessary packages, using `conda`. See\n",
        "https://surprise.readthedocs.io/en/stable/getting_started.html:\n",
        "\n",
        "`conda install -c conda-forge scikit-surprise`\n",
        "\n",
        "`conda install -c anaconda joblib`"
      ]
    },
    {
      "cell_type": "markdown",
      "id": "fdd32d40",
      "metadata": {},
      "source": [
        "Need to get the data (a zip file) and to use just the ratings.txt file within it"
      ]
    },
    {
      "cell_type": "code",
      "execution_count": null,
      "id": "96c3014f",
      "metadata": {
        "lines_to_next_cell": 0
      },
      "outputs": [],
      "source": []
    },
    {
      "cell_type": "code",
      "execution_count": null,
      "id": "acbd75c8",
      "metadata": {
        "lines_to_next_cell": 1,
        "tags": [
          "imports"
        ]
      },
      "outputs": [],
      "source": [
        "import surprise\n",
        "import pandas as pd\n",
        "import numpy as np\n",
        "import requests\n",
        "import io\n",
        "import os\n",
        "import zipfile"
      ]
    },
    {
      "cell_type": "markdown",
      "id": "b6b2b656",
      "metadata": {},
      "source": [
        "Download zip file from url if it has not been downloaded already\n",
        "See https://codereview.stackexchange.com/a/231221"
      ]
    },
    {
      "cell_type": "code",
      "execution_count": null,
      "id": "44778964",
      "metadata": {
        "lines_to_next_cell": 0
      },
      "outputs": [],
      "source": []
    },
    {
      "cell_type": "code",
      "execution_count": null,
      "id": "b2737330",
      "metadata": {
        "tags": [
          "readData"
        ]
      },
      "outputs": [],
      "source": [
        "def download_zipfile(url, zipF):\n",
        "  if not os.path.isfile(zipF):\n",
        "    with open(zipF, 'wb') as out:\n",
        "      out.write(requests.get(url).content)\n",
        "\n",
        "\n",
        "def read_zipfile_item(zipF, fn):\n",
        "  with zipfile.ZipFile(zipF) as zip_file:\n",
        "    with zip_file.open(fn) as f:\n",
        "      return f.read().decode('utf8')\n",
        "\n",
        "url = 'https://guoguibing.github.io/librec/datasets/filmtrust.zip'\n",
        "zipF = 'data/filmtrust.zip'\n",
        "fn = 'ratings.txt'\n",
        "download_zipfile(url, zipF)\n",
        "# io.StringIO converts the stream into a file-like object, as expected by pd.read_table()\n",
        "ratings = pd.read_table(io.StringIO(read_zipfile_item(zipF, fn)), sep = ' ', names = ['uid', 'iid', 'rating'])\n",
        "print(ratings.head())"
      ]
    },
    {
      "cell_type": "markdown",
      "id": "59f1bf17",
      "metadata": {},
      "source": [
        "Need to check that the ratings have the expected range. Suprise defaults to [1,5] but filmtrust uses [0.5, 4] as seen below."
      ]
    },
    {
      "cell_type": "code",
      "execution_count": null,
      "id": "64101c5d",
      "metadata": {
        "lines_to_next_cell": 0
      },
      "outputs": [],
      "source": []
    },
    {
      "cell_type": "code",
      "execution_count": null,
      "id": "ab00d16a",
      "metadata": {
        "tags": [
          "ratingRange"
        ]
      },
      "outputs": [],
      "source": [
        "# Get the rating range\n",
        "lowest_rating = ratings['rating'].min()\n",
        "highest_rating = ratings['rating'].max()\n",
        "print('Ratings range from {0} to {1}'.format(lowest_rating, highest_rating))"
      ]
    },
    {
      "cell_type": "markdown",
      "id": "a0766735",
      "metadata": {},
      "source": [
        "Tell surprise about the rating_scale used by this data"
      ]
    },
    {
      "cell_type": "code",
      "execution_count": null,
      "id": "e79d34aa",
      "metadata": {
        "lines_to_next_cell": 0
      },
      "outputs": [],
      "source": []
    },
    {
      "cell_type": "code",
      "execution_count": null,
      "id": "65aa6a4b",
      "metadata": {
        "tags": [
          "applyRatingRange"
        ]
      },
      "outputs": [],
      "source": [
        "reader = surprise.Reader(rating_scale=(lowest_rating, highest_rating))\n",
        "data = surprise.Dataset.load_from_df(ratings, reader)"
      ]
    },
    {
      "cell_type": "markdown",
      "id": "b64ec4ff",
      "metadata": {},
      "source": [
        "Now use the SVD-based recommender algorithm, treating all the data as the training set\n",
        "Of course, it is generally much better to split into separate training and test sets."
      ]
    },
    {
      "cell_type": "code",
      "execution_count": null,
      "id": "e7776527",
      "metadata": {
        "lines_to_next_cell": 0
      },
      "outputs": [],
      "source": []
    },
    {
      "cell_type": "code",
      "execution_count": null,
      "id": "e07bb042",
      "metadata": {
        "tags": [
          "chooseSVD"
        ]
      },
      "outputs": [],
      "source": [
        "alg = surprise.SVD()\n",
        "output = alg.fit(data.build_full_trainset())"
      ]
    },
    {
      "cell_type": "markdown",
      "id": "bb7cac6e",
      "metadata": {},
      "source": [
        "Now check how well the recommender predicts when uid=50 and iid=52 (which is a known rating)"
      ]
    },
    {
      "cell_type": "code",
      "execution_count": null,
      "id": "a5606f82",
      "metadata": {
        "lines_to_next_cell": 0
      },
      "outputs": [],
      "source": []
    },
    {
      "cell_type": "code",
      "execution_count": null,
      "id": "d75b1eec",
      "metadata": {
        "tags": [
          "getScore"
        ]
      },
      "outputs": [],
      "source": [
        "# The uids and iids need to be converted to strings for prediction\n",
        "pred = alg.predict(uid='1', iid='4')\n",
        "predScore = pred.est\n",
        "actualScore = ratings.query('uid == \"1\" & iid == \"4\"').iloc[0]['rating']\n",
        "print('Actual score is {0} and predicted score (using SVD-based recommender algorithm) is {1}'.format(actualScore,predScore))"
      ]
    },
    {
      "cell_type": "markdown",
      "id": "cc5d12cf",
      "metadata": {},
      "source": [
        "More practically, we would like to generate ratings for all movies that were not rated by a given user"
      ]
    },
    {
      "cell_type": "code",
      "execution_count": null,
      "id": "893fb80f",
      "metadata": {
        "lines_to_next_cell": 0
      },
      "outputs": [],
      "source": []
    },
    {
      "cell_type": "code",
      "execution_count": null,
      "id": "c2cd1e9b",
      "metadata": {
        "tags": [
          "selectItems"
        ]
      },
      "outputs": [],
      "source": [
        "# Get a list of all movie ids\n",
        "iids = ratings['iid'].unique()\n",
        "# Get a list of iids that user '50' has rated\n",
        "iids50 = ratings.loc[ratings['uid']==50, 'iid']\n",
        "# Remove the  iids that user 50 has rate from all the list of movie ids\n",
        "iids_to_pred = np.setdiff1d(iids, iids50)"
      ]
    },
    {
      "cell_type": "markdown",
      "id": "2add0c8c",
      "metadata": {},
      "source": [
        "We arbitrarly set the rating to -1 (standing in for 'unrated') for the iids to be predicted\n",
        "We can then predict a batch of ratings together (in the testset)"
      ]
    },
    {
      "cell_type": "code",
      "execution_count": null,
      "id": "640cceaa",
      "metadata": {
        "lines_to_next_cell": 0
      },
      "outputs": [],
      "source": []
    },
    {
      "cell_type": "code",
      "execution_count": null,
      "id": "8ba022a7",
      "metadata": {
        "tags": [
          "getPredictions"
        ]
      },
      "outputs": [],
      "source": [
        "testset = [[50, iid, -1] for iid in iids_to_pred]\n",
        "predictions = alg.test(testset)"
      ]
    },
    {
      "cell_type": "markdown",
      "id": "f94bd835",
      "metadata": {},
      "source": [
        "Now that we have the predicted ratings, we can use pick one with the highest rating for recommendation purposes"
      ]
    },
    {
      "cell_type": "code",
      "execution_count": null,
      "id": "eb72b969",
      "metadata": {
        "lines_to_next_cell": 0
      },
      "outputs": [],
      "source": []
    },
    {
      "cell_type": "code",
      "execution_count": null,
      "id": "53abca1e",
      "metadata": {
        "tags": [
          "dispPredictions"
        ]
      },
      "outputs": [],
      "source": [
        "pred_ratings = np.array([pred.est for pred in predictions])\n",
        "# Find the index of the maximum predicted rating\n",
        "i_max = pred_ratings.argmax()\n",
        "# Use this to find the corresponding iid to recommend\n",
        "iid = iids_to_pred[i_max]\n",
        "print('Top item for user 50 has iid {0} with predicted rating {1}'.format(iid, pred_ratings[i_max]))"
      ]
    },
    {
      "cell_type": "code",
      "execution_count": null,
      "id": "c7385b51",
      "metadata": {},
      "outputs": [],
      "source": [
        "# Exercise: Identify the top 5 items to suggest to this user.\n",
        "# You might find Numpy's argpartition function useful for this purpose."
      ]
    }
  ],
  "metadata": {
    "kernelspec": {
      "display_name": "Python 3",
      "language": "python",
      "name": "python3"
    }
  },
  "nbformat": 4,
  "nbformat_minor": 5
}
